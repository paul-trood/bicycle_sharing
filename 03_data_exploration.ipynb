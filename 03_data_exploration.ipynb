{
 "cells": [
  {
   "cell_type": "code",
   "execution_count": 1,
   "metadata": {},
   "outputs": [],
   "source": [
    "import pandas as pd\n",
    "import numpy as np\n",
    "from IPython.display import display\n",
    "import seaborn as sns\n",
    "import matplotlib.pyplot as plt\n",
    "from matplotlib.ticker import FormatStrFormatter, StrMethodFormatter\n",
    "import missingno as msno\n",
    "pd.set_option(\"display.max_columns\", None)\n",
    "pd.set_option(\"display.float_format\", lambda x: \"%.2f\" % x)"
   ]
  },
  {
   "cell_type": "code",
   "execution_count": 72,
   "metadata": {},
   "outputs": [],
   "source": [
    "dates = [\n",
    "            \"start_date\",\n",
    "            \"end_date\"\n",
    "]\n",
    "\n",
    "cols_to_drop = [\"Year\",\"started_at\",\"ended_at\"]\n",
    "\n",
    "df = pd.read_csv(\"bicycle_sharing_cleaned.csv\",parse_dates=dates).drop(cols_to_drop,axis=1)\n",
    "df[\"start_time\"] = pd.to_datetime(df[\"start_time\"], format='%H:%M:%S').dt.time\n",
    "df[\"end_time\"] = pd.to_datetime(df[\"end_time\"], format='%H:%M:%S').dt.time"
   ]
  },
  {
   "cell_type": "code",
   "execution_count": 73,
   "metadata": {},
   "outputs": [
    {
     "data": {
      "text/html": [
       "<div>\n",
       "<style scoped>\n",
       "    .dataframe tbody tr th:only-of-type {\n",
       "        vertical-align: middle;\n",
       "    }\n",
       "\n",
       "    .dataframe tbody tr th {\n",
       "        vertical-align: top;\n",
       "    }\n",
       "\n",
       "    .dataframe thead th {\n",
       "        text-align: right;\n",
       "    }\n",
       "</style>\n",
       "<table border=\"1\" class=\"dataframe\">\n",
       "  <thead>\n",
       "    <tr style=\"text-align: right;\">\n",
       "      <th></th>\n",
       "      <th>rideable_type</th>\n",
       "      <th>start_station_name</th>\n",
       "      <th>end_station_name</th>\n",
       "      <th>member_casual</th>\n",
       "      <th>start_date</th>\n",
       "      <th>end_date</th>\n",
       "      <th>start_time</th>\n",
       "      <th>end_time</th>\n",
       "      <th>start_month</th>\n",
       "      <th>end_month</th>\n",
       "    </tr>\n",
       "  </thead>\n",
       "  <tbody>\n",
       "    <tr>\n",
       "      <th>0</th>\n",
       "      <td>docked_bike</td>\n",
       "      <td>Eckhart Park</td>\n",
       "      <td>Lincoln Ave &amp; Diversey Pkwy</td>\n",
       "      <td>member</td>\n",
       "      <td>2020-04-26</td>\n",
       "      <td>2020-04-26</td>\n",
       "      <td>17:45:14</td>\n",
       "      <td>18:12:03</td>\n",
       "      <td>April</td>\n",
       "      <td>April</td>\n",
       "    </tr>\n",
       "    <tr>\n",
       "      <th>1</th>\n",
       "      <td>docked_bike</td>\n",
       "      <td>Drake Ave &amp; Fullerton Ave</td>\n",
       "      <td>Kosciuszko Park</td>\n",
       "      <td>member</td>\n",
       "      <td>2020-04-17</td>\n",
       "      <td>2020-04-17</td>\n",
       "      <td>17:08:54</td>\n",
       "      <td>17:17:03</td>\n",
       "      <td>April</td>\n",
       "      <td>April</td>\n",
       "    </tr>\n",
       "    <tr>\n",
       "      <th>2</th>\n",
       "      <td>docked_bike</td>\n",
       "      <td>McClurg Ct &amp; Erie St</td>\n",
       "      <td>Indiana Ave &amp; Roosevelt Rd</td>\n",
       "      <td>member</td>\n",
       "      <td>2020-04-01</td>\n",
       "      <td>2020-04-01</td>\n",
       "      <td>17:54:13</td>\n",
       "      <td>18:08:36</td>\n",
       "      <td>April</td>\n",
       "      <td>April</td>\n",
       "    </tr>\n",
       "    <tr>\n",
       "      <th>3</th>\n",
       "      <td>docked_bike</td>\n",
       "      <td>California Ave &amp; Division St</td>\n",
       "      <td>Wood St &amp; Augusta Blvd</td>\n",
       "      <td>member</td>\n",
       "      <td>2020-04-07</td>\n",
       "      <td>2020-04-07</td>\n",
       "      <td>12:50:19</td>\n",
       "      <td>13:02:31</td>\n",
       "      <td>April</td>\n",
       "      <td>April</td>\n",
       "    </tr>\n",
       "    <tr>\n",
       "      <th>4</th>\n",
       "      <td>docked_bike</td>\n",
       "      <td>Rush St &amp; Hubbard St</td>\n",
       "      <td>Sheridan Rd &amp; Lawrence Ave</td>\n",
       "      <td>casual</td>\n",
       "      <td>2020-04-18</td>\n",
       "      <td>2020-04-18</td>\n",
       "      <td>10:22:59</td>\n",
       "      <td>11:15:54</td>\n",
       "      <td>April</td>\n",
       "      <td>April</td>\n",
       "    </tr>\n",
       "  </tbody>\n",
       "</table>\n",
       "</div>"
      ],
      "text/plain": [
       "  rideable_type            start_station_name             end_station_name  \\\n",
       "0   docked_bike                  Eckhart Park  Lincoln Ave & Diversey Pkwy   \n",
       "1   docked_bike     Drake Ave & Fullerton Ave              Kosciuszko Park   \n",
       "2   docked_bike          McClurg Ct & Erie St   Indiana Ave & Roosevelt Rd   \n",
       "3   docked_bike  California Ave & Division St       Wood St & Augusta Blvd   \n",
       "4   docked_bike          Rush St & Hubbard St   Sheridan Rd & Lawrence Ave   \n",
       "\n",
       "  member_casual start_date   end_date start_time  end_time start_month  \\\n",
       "0        member 2020-04-26 2020-04-26   17:45:14  18:12:03       April   \n",
       "1        member 2020-04-17 2020-04-17   17:08:54  17:17:03       April   \n",
       "2        member 2020-04-01 2020-04-01   17:54:13  18:08:36       April   \n",
       "3        member 2020-04-07 2020-04-07   12:50:19  13:02:31       April   \n",
       "4        casual 2020-04-18 2020-04-18   10:22:59  11:15:54       April   \n",
       "\n",
       "  end_month  \n",
       "0     April  \n",
       "1     April  \n",
       "2     April  \n",
       "3     April  \n",
       "4     April  "
      ]
     },
     "execution_count": 73,
     "metadata": {},
     "output_type": "execute_result"
    }
   ],
   "source": [
    "df.head()"
   ]
  },
  {
   "cell_type": "code",
   "execution_count": 74,
   "metadata": {},
   "outputs": [],
   "source": [
    "df[[\"rideable_type\",\"member_casual\"]] = df[[\"rideable_type\",\"member_casual\"]].astype(\"category\")"
   ]
  },
  {
   "cell_type": "code",
   "execution_count": 75,
   "metadata": {},
   "outputs": [
    {
     "data": {
      "text/html": [
       "<div>\n",
       "<style scoped>\n",
       "    .dataframe tbody tr th:only-of-type {\n",
       "        vertical-align: middle;\n",
       "    }\n",
       "\n",
       "    .dataframe tbody tr th {\n",
       "        vertical-align: top;\n",
       "    }\n",
       "\n",
       "    .dataframe thead th {\n",
       "        text-align: right;\n",
       "    }\n",
       "</style>\n",
       "<table border=\"1\" class=\"dataframe\">\n",
       "  <thead>\n",
       "    <tr style=\"text-align: right;\">\n",
       "      <th></th>\n",
       "      <th>rideable_type</th>\n",
       "      <th>start_station_name</th>\n",
       "      <th>end_station_name</th>\n",
       "      <th>member_casual</th>\n",
       "      <th>start_date</th>\n",
       "      <th>end_date</th>\n",
       "      <th>start_time</th>\n",
       "      <th>end_time</th>\n",
       "      <th>start_month</th>\n",
       "      <th>end_month</th>\n",
       "    </tr>\n",
       "  </thead>\n",
       "  <tbody>\n",
       "    <tr>\n",
       "      <th>0</th>\n",
       "      <td>docked_bike</td>\n",
       "      <td>Eckhart Park</td>\n",
       "      <td>Lincoln Ave &amp; Diversey Pkwy</td>\n",
       "      <td>member</td>\n",
       "      <td>2020-04-26</td>\n",
       "      <td>2020-04-26</td>\n",
       "      <td>17:45:14</td>\n",
       "      <td>18:12:03</td>\n",
       "      <td>April</td>\n",
       "      <td>April</td>\n",
       "    </tr>\n",
       "    <tr>\n",
       "      <th>1</th>\n",
       "      <td>docked_bike</td>\n",
       "      <td>Drake Ave &amp; Fullerton Ave</td>\n",
       "      <td>Kosciuszko Park</td>\n",
       "      <td>member</td>\n",
       "      <td>2020-04-17</td>\n",
       "      <td>2020-04-17</td>\n",
       "      <td>17:08:54</td>\n",
       "      <td>17:17:03</td>\n",
       "      <td>April</td>\n",
       "      <td>April</td>\n",
       "    </tr>\n",
       "    <tr>\n",
       "      <th>2</th>\n",
       "      <td>docked_bike</td>\n",
       "      <td>McClurg Ct &amp; Erie St</td>\n",
       "      <td>Indiana Ave &amp; Roosevelt Rd</td>\n",
       "      <td>member</td>\n",
       "      <td>2020-04-01</td>\n",
       "      <td>2020-04-01</td>\n",
       "      <td>17:54:13</td>\n",
       "      <td>18:08:36</td>\n",
       "      <td>April</td>\n",
       "      <td>April</td>\n",
       "    </tr>\n",
       "    <tr>\n",
       "      <th>3</th>\n",
       "      <td>docked_bike</td>\n",
       "      <td>California Ave &amp; Division St</td>\n",
       "      <td>Wood St &amp; Augusta Blvd</td>\n",
       "      <td>member</td>\n",
       "      <td>2020-04-07</td>\n",
       "      <td>2020-04-07</td>\n",
       "      <td>12:50:19</td>\n",
       "      <td>13:02:31</td>\n",
       "      <td>April</td>\n",
       "      <td>April</td>\n",
       "    </tr>\n",
       "    <tr>\n",
       "      <th>4</th>\n",
       "      <td>docked_bike</td>\n",
       "      <td>Rush St &amp; Hubbard St</td>\n",
       "      <td>Sheridan Rd &amp; Lawrence Ave</td>\n",
       "      <td>casual</td>\n",
       "      <td>2020-04-18</td>\n",
       "      <td>2020-04-18</td>\n",
       "      <td>10:22:59</td>\n",
       "      <td>11:15:54</td>\n",
       "      <td>April</td>\n",
       "      <td>April</td>\n",
       "    </tr>\n",
       "    <tr>\n",
       "      <th>...</th>\n",
       "      <td>...</td>\n",
       "      <td>...</td>\n",
       "      <td>...</td>\n",
       "      <td>...</td>\n",
       "      <td>...</td>\n",
       "      <td>...</td>\n",
       "      <td>...</td>\n",
       "      <td>...</td>\n",
       "      <td>...</td>\n",
       "      <td>...</td>\n",
       "    </tr>\n",
       "    <tr>\n",
       "      <th>14758108</th>\n",
       "      <td>classic_bike</td>\n",
       "      <td>Clark St &amp; Wrightwood Ave</td>\n",
       "      <td>Sheffield Ave &amp; Waveland Ave</td>\n",
       "      <td>member</td>\n",
       "      <td>2023-02-08</td>\n",
       "      <td>2023-02-08</td>\n",
       "      <td>21:57:22</td>\n",
       "      <td>22:08:06</td>\n",
       "      <td>February</td>\n",
       "      <td>February</td>\n",
       "    </tr>\n",
       "    <tr>\n",
       "      <th>14758109</th>\n",
       "      <td>electric_bike</td>\n",
       "      <td>Ogden Ave &amp; Roosevelt Rd</td>\n",
       "      <td>Delano Ct &amp; Roosevelt Rd</td>\n",
       "      <td>member</td>\n",
       "      <td>2023-02-19</td>\n",
       "      <td>2023-02-19</td>\n",
       "      <td>11:29:09</td>\n",
       "      <td>11:39:11</td>\n",
       "      <td>February</td>\n",
       "      <td>February</td>\n",
       "    </tr>\n",
       "    <tr>\n",
       "      <th>14758110</th>\n",
       "      <td>electric_bike</td>\n",
       "      <td>Clark St &amp; Wrightwood Ave</td>\n",
       "      <td>Canal St &amp; Madison St</td>\n",
       "      <td>casual</td>\n",
       "      <td>2023-02-07</td>\n",
       "      <td>2023-02-07</td>\n",
       "      <td>09:01:33</td>\n",
       "      <td>09:16:53</td>\n",
       "      <td>February</td>\n",
       "      <td>February</td>\n",
       "    </tr>\n",
       "    <tr>\n",
       "      <th>14758111</th>\n",
       "      <td>electric_bike</td>\n",
       "      <td>Clark St &amp; Wrightwood Ave</td>\n",
       "      <td>Canal St &amp; Madison St</td>\n",
       "      <td>casual</td>\n",
       "      <td>2023-02-22</td>\n",
       "      <td>2023-02-22</td>\n",
       "      <td>08:33:22</td>\n",
       "      <td>08:50:11</td>\n",
       "      <td>February</td>\n",
       "      <td>February</td>\n",
       "    </tr>\n",
       "    <tr>\n",
       "      <th>14758112</th>\n",
       "      <td>classic_bike</td>\n",
       "      <td>Clark St &amp; Winnemac Ave</td>\n",
       "      <td>Sheffield Ave &amp; Waveland Ave</td>\n",
       "      <td>member</td>\n",
       "      <td>2023-02-01</td>\n",
       "      <td>2023-02-01</td>\n",
       "      <td>21:52:17</td>\n",
       "      <td>22:04:17</td>\n",
       "      <td>February</td>\n",
       "      <td>February</td>\n",
       "    </tr>\n",
       "  </tbody>\n",
       "</table>\n",
       "<p>14758113 rows × 10 columns</p>\n",
       "</div>"
      ],
      "text/plain": [
       "          rideable_type            start_station_name  \\\n",
       "0           docked_bike                  Eckhart Park   \n",
       "1           docked_bike     Drake Ave & Fullerton Ave   \n",
       "2           docked_bike          McClurg Ct & Erie St   \n",
       "3           docked_bike  California Ave & Division St   \n",
       "4           docked_bike          Rush St & Hubbard St   \n",
       "...                 ...                           ...   \n",
       "14758108   classic_bike     Clark St & Wrightwood Ave   \n",
       "14758109  electric_bike      Ogden Ave & Roosevelt Rd   \n",
       "14758110  electric_bike     Clark St & Wrightwood Ave   \n",
       "14758111  electric_bike     Clark St & Wrightwood Ave   \n",
       "14758112   classic_bike       Clark St & Winnemac Ave   \n",
       "\n",
       "                      end_station_name member_casual start_date   end_date  \\\n",
       "0          Lincoln Ave & Diversey Pkwy        member 2020-04-26 2020-04-26   \n",
       "1                      Kosciuszko Park        member 2020-04-17 2020-04-17   \n",
       "2           Indiana Ave & Roosevelt Rd        member 2020-04-01 2020-04-01   \n",
       "3               Wood St & Augusta Blvd        member 2020-04-07 2020-04-07   \n",
       "4           Sheridan Rd & Lawrence Ave        casual 2020-04-18 2020-04-18   \n",
       "...                                ...           ...        ...        ...   \n",
       "14758108  Sheffield Ave & Waveland Ave        member 2023-02-08 2023-02-08   \n",
       "14758109      Delano Ct & Roosevelt Rd        member 2023-02-19 2023-02-19   \n",
       "14758110         Canal St & Madison St        casual 2023-02-07 2023-02-07   \n",
       "14758111         Canal St & Madison St        casual 2023-02-22 2023-02-22   \n",
       "14758112  Sheffield Ave & Waveland Ave        member 2023-02-01 2023-02-01   \n",
       "\n",
       "         start_time  end_time start_month end_month  \n",
       "0          17:45:14  18:12:03       April     April  \n",
       "1          17:08:54  17:17:03       April     April  \n",
       "2          17:54:13  18:08:36       April     April  \n",
       "3          12:50:19  13:02:31       April     April  \n",
       "4          10:22:59  11:15:54       April     April  \n",
       "...             ...       ...         ...       ...  \n",
       "14758108   21:57:22  22:08:06    February  February  \n",
       "14758109   11:29:09  11:39:11    February  February  \n",
       "14758110   09:01:33  09:16:53    February  February  \n",
       "14758111   08:33:22  08:50:11    February  February  \n",
       "14758112   21:52:17  22:04:17    February  February  \n",
       "\n",
       "[14758113 rows x 10 columns]"
      ]
     },
     "execution_count": 75,
     "metadata": {},
     "output_type": "execute_result"
    }
   ],
   "source": [
    "df"
   ]
  },
  {
   "cell_type": "code",
   "execution_count": 76,
   "metadata": {},
   "outputs": [
    {
     "name": "stdout",
     "output_type": "stream",
     "text": [
      "<class 'pandas.core.frame.DataFrame'>\n",
      "RangeIndex: 14758113 entries, 0 to 14758112\n",
      "Data columns (total 10 columns):\n",
      " #   Column              Dtype         \n",
      "---  ------              -----         \n",
      " 0   rideable_type       category      \n",
      " 1   start_station_name  object        \n",
      " 2   end_station_name    object        \n",
      " 3   member_casual       category      \n",
      " 4   start_date          datetime64[ns]\n",
      " 5   end_date            datetime64[ns]\n",
      " 6   start_time          object        \n",
      " 7   end_time            object        \n",
      " 8   start_month         object        \n",
      " 9   end_month           object        \n",
      "dtypes: category(2), datetime64[ns](2), object(6)\n",
      "memory usage: 5.4 GB\n"
     ]
    }
   ],
   "source": [
    "df.info(memory_usage=\"deep\")"
   ]
  },
  {
   "cell_type": "code",
   "execution_count": 77,
   "metadata": {},
   "outputs": [],
   "source": [
    "month_series = df[\"start_month\"].value_counts()"
   ]
  },
  {
   "cell_type": "code",
   "execution_count": 78,
   "metadata": {},
   "outputs": [
    {
     "data": {
      "text/plain": [
       "August    2212645\n",
       "Name: start_month, dtype: int64"
      ]
     },
     "execution_count": 78,
     "metadata": {},
     "output_type": "execute_result"
    }
   ],
   "source": [
    "month_series.iloc[[0]]"
   ]
  },
  {
   "cell_type": "code",
   "execution_count": 79,
   "metadata": {},
   "outputs": [
    {
     "data": {
      "text/plain": [
       "<AxesSubplot:>"
      ]
     },
     "execution_count": 79,
     "metadata": {},
     "output_type": "execute_result"
    },
    {
     "data": {
      "image/png": "[encoded data removed]",
      "text/plain": [
       "<Figure size 432x288 with 1 Axes>"
      ]
     },
     "metadata": {
      "needs_background": "light"
     },
     "output_type": "display_data"
    }
   ],
   "source": [
    "month_series.iloc[[10,11,9,7,5,3,1,0,2,4,6,8]].plot(kind=\"bar\")"
   ]
  },
  {
   "cell_type": "code",
   "execution_count": 80,
   "metadata": {},
   "outputs": [
    {
     "data": {
      "text/plain": [
       "<AxesSubplot:>"
      ]
     },
     "execution_count": 80,
     "metadata": {},
     "output_type": "execute_result"
    },
    {
     "data": {
      "image/png": "[encoded data removed]",
      "text/plain": [
       "<Figure size 432x288 with 1 Axes>"
      ]
     },
     "metadata": {
      "needs_background": "light"
     },
     "output_type": "display_data"
    }
   ],
   "source": [
    "df[\"start_date\"].dt.day_name().value_counts().iloc[[6,5,4,3,2,0,1]].plot(kind=\"bar\")"
   ]
  },
  {
   "cell_type": "code",
   "execution_count": 82,
   "metadata": {},
   "outputs": [],
   "source": [
    "members = df[df[\"member_casual\"]== \"member\"]"
   ]
  },
  {
   "cell_type": "code",
   "execution_count": 83,
   "metadata": {},
   "outputs": [],
   "source": [
    "casual = df[df[\"member_casual\"]== \"casual\"]"
   ]
  },
  {
   "cell_type": "code",
   "execution_count": 88,
   "metadata": {},
   "outputs": [
    {
     "name": "stdout",
     "output_type": "stream",
     "text": [
      "6252131\n",
      "8505982\n"
     ]
    }
   ],
   "source": [
    "print(len(casual))\n",
    "print(len(members))"
   ]
  },
  {
   "cell_type": "code",
   "execution_count": null,
   "metadata": {},
   "outputs": [],
   "source": [
    "members[\"\"]"
   ]
  }
 ],
 "metadata": {
  "kernelspec": {
   "display_name": "base",
   "language": "python",
   "name": "python3"
  },
  "language_info": {
   "codemirror_mode": {
    "name": "ipython",
    "version": 3
   },
   "file_extension": ".py",
   "mimetype": "text/x-python",
   "name": "python",
   "nbconvert_exporter": "python",
   "pygments_lexer": "ipython3",
   "version": "3.9.7"
  },
  "orig_nbformat": 4
 },
 "nbformat": 4,
 "nbformat_minor": 2
}
