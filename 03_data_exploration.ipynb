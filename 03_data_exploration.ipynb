{
 "cells": [
  {
   "cell_type": "code",
   "execution_count": 58,
   "metadata": {},
   "outputs": [],
   "source": [
    "import pandas as pd\n",
    "import numpy as np\n",
    "from IPython.display import display\n",
    "import seaborn as sns\n",
    "import matplotlib.pyplot as plt\n",
    "from matplotlib.ticker import FormatStrFormatter, StrMethodFormatter\n",
    "import missingno as msno\n",
    "pd.set_option(\"display.max_columns\", None)\n",
    "pd.set_option(\"display.float_format\", lambda x: \"%.2f\" % x)"
   ]
  },
  {
   "cell_type": "code",
   "execution_count": 59,
   "metadata": {},
   "outputs": [],
   "source": [
    "# Columns needed to be parsed as datetime\n",
    "dates = [\n",
    "            \n",
    "            \"started_at\",\n",
    "            \"ended_at\"\n",
    "]\n",
    "\n",
    "# Drop columns\n",
    "cols_to_drop = [\"Year\",\"start_time\",\"end_time\",\"start_date\",\"end_date\",]\n",
    "\n",
    "# Read csv\n",
    "df = pd.read_csv(\"bicycle_sharing_cleaned.csv\",parse_dates=dates).drop(cols_to_drop,axis=1)\n"
   ]
  },
  {
   "cell_type": "code",
   "execution_count": 60,
   "metadata": {},
   "outputs": [
    {
     "data": {
      "text/html": [
       "<div>\n",
       "<style scoped>\n",
       "    .dataframe tbody tr th:only-of-type {\n",
       "        vertical-align: middle;\n",
       "    }\n",
       "\n",
       "    .dataframe tbody tr th {\n",
       "        vertical-align: top;\n",
       "    }\n",
       "\n",
       "    .dataframe thead th {\n",
       "        text-align: right;\n",
       "    }\n",
       "</style>\n",
       "<table border=\"1\" class=\"dataframe\">\n",
       "  <thead>\n",
       "    <tr style=\"text-align: right;\">\n",
       "      <th></th>\n",
       "      <th>rideable_type</th>\n",
       "      <th>started_at</th>\n",
       "      <th>ended_at</th>\n",
       "      <th>start_station_name</th>\n",
       "      <th>end_station_name</th>\n",
       "      <th>member_casual</th>\n",
       "      <th>start_date</th>\n",
       "      <th>end_date</th>\n",
       "      <th>start_month</th>\n",
       "      <th>end_month</th>\n",
       "    </tr>\n",
       "  </thead>\n",
       "  <tbody>\n",
       "    <tr>\n",
       "      <th>0</th>\n",
       "      <td>docked_bike</td>\n",
       "      <td>2020-04-26 17:45:14</td>\n",
       "      <td>2020-04-26 18:12:03</td>\n",
       "      <td>Eckhart Park</td>\n",
       "      <td>Lincoln Ave &amp; Diversey Pkwy</td>\n",
       "      <td>member</td>\n",
       "      <td>2020-04-26</td>\n",
       "      <td>2020-04-26</td>\n",
       "      <td>April</td>\n",
       "      <td>April</td>\n",
       "    </tr>\n",
       "    <tr>\n",
       "      <th>1</th>\n",
       "      <td>docked_bike</td>\n",
       "      <td>2020-04-17 17:08:54</td>\n",
       "      <td>2020-04-17 17:17:03</td>\n",
       "      <td>Drake Ave &amp; Fullerton Ave</td>\n",
       "      <td>Kosciuszko Park</td>\n",
       "      <td>member</td>\n",
       "      <td>2020-04-17</td>\n",
       "      <td>2020-04-17</td>\n",
       "      <td>April</td>\n",
       "      <td>April</td>\n",
       "    </tr>\n",
       "    <tr>\n",
       "      <th>2</th>\n",
       "      <td>docked_bike</td>\n",
       "      <td>2020-04-01 17:54:13</td>\n",
       "      <td>2020-04-01 18:08:36</td>\n",
       "      <td>McClurg Ct &amp; Erie St</td>\n",
       "      <td>Indiana Ave &amp; Roosevelt Rd</td>\n",
       "      <td>member</td>\n",
       "      <td>2020-04-01</td>\n",
       "      <td>2020-04-01</td>\n",
       "      <td>April</td>\n",
       "      <td>April</td>\n",
       "    </tr>\n",
       "    <tr>\n",
       "      <th>3</th>\n",
       "      <td>docked_bike</td>\n",
       "      <td>2020-04-07 12:50:19</td>\n",
       "      <td>2020-04-07 13:02:31</td>\n",
       "      <td>California Ave &amp; Division St</td>\n",
       "      <td>Wood St &amp; Augusta Blvd</td>\n",
       "      <td>member</td>\n",
       "      <td>2020-04-07</td>\n",
       "      <td>2020-04-07</td>\n",
       "      <td>April</td>\n",
       "      <td>April</td>\n",
       "    </tr>\n",
       "    <tr>\n",
       "      <th>4</th>\n",
       "      <td>docked_bike</td>\n",
       "      <td>2020-04-18 10:22:59</td>\n",
       "      <td>2020-04-18 11:15:54</td>\n",
       "      <td>Rush St &amp; Hubbard St</td>\n",
       "      <td>Sheridan Rd &amp; Lawrence Ave</td>\n",
       "      <td>casual</td>\n",
       "      <td>2020-04-18</td>\n",
       "      <td>2020-04-18</td>\n",
       "      <td>April</td>\n",
       "      <td>April</td>\n",
       "    </tr>\n",
       "  </tbody>\n",
       "</table>\n",
       "</div>"
      ],
      "text/plain": [
       "  rideable_type          started_at            ended_at  \\\n",
       "0   docked_bike 2020-04-26 17:45:14 2020-04-26 18:12:03   \n",
       "1   docked_bike 2020-04-17 17:08:54 2020-04-17 17:17:03   \n",
       "2   docked_bike 2020-04-01 17:54:13 2020-04-01 18:08:36   \n",
       "3   docked_bike 2020-04-07 12:50:19 2020-04-07 13:02:31   \n",
       "4   docked_bike 2020-04-18 10:22:59 2020-04-18 11:15:54   \n",
       "\n",
       "             start_station_name             end_station_name member_casual  \\\n",
       "0                  Eckhart Park  Lincoln Ave & Diversey Pkwy        member   \n",
       "1     Drake Ave & Fullerton Ave              Kosciuszko Park        member   \n",
       "2          McClurg Ct & Erie St   Indiana Ave & Roosevelt Rd        member   \n",
       "3  California Ave & Division St       Wood St & Augusta Blvd        member   \n",
       "4          Rush St & Hubbard St   Sheridan Rd & Lawrence Ave        casual   \n",
       "\n",
       "  start_date   end_date start_month end_month  \n",
       "0 2020-04-26 2020-04-26       April     April  \n",
       "1 2020-04-17 2020-04-17       April     April  \n",
       "2 2020-04-01 2020-04-01       April     April  \n",
       "3 2020-04-07 2020-04-07       April     April  \n",
       "4 2020-04-18 2020-04-18       April     April  "
      ]
     },
     "execution_count": 60,
     "metadata": {},
     "output_type": "execute_result"
    }
   ],
   "source": [
    "df.head()"
   ]
  },
  {
   "cell_type": "code",
   "execution_count": 61,
   "metadata": {},
   "outputs": [],
   "source": [
    "# Convert columns to category for lower memory usage\n",
    "df[[\"rideable_type\",\"member_casual\"]] = df[[\"rideable_type\",\"member_casual\"]].astype(\"category\")"
   ]
  },
  {
   "cell_type": "code",
   "execution_count": 62,
   "metadata": {},
   "outputs": [
    {
     "data": {
      "text/html": [
       "<div>\n",
       "<style scoped>\n",
       "    .dataframe tbody tr th:only-of-type {\n",
       "        vertical-align: middle;\n",
       "    }\n",
       "\n",
       "    .dataframe tbody tr th {\n",
       "        vertical-align: top;\n",
       "    }\n",
       "\n",
       "    .dataframe thead th {\n",
       "        text-align: right;\n",
       "    }\n",
       "</style>\n",
       "<table border=\"1\" class=\"dataframe\">\n",
       "  <thead>\n",
       "    <tr style=\"text-align: right;\">\n",
       "      <th></th>\n",
       "      <th>rideable_type</th>\n",
       "      <th>started_at</th>\n",
       "      <th>ended_at</th>\n",
       "      <th>start_station_name</th>\n",
       "      <th>end_station_name</th>\n",
       "      <th>member_casual</th>\n",
       "      <th>start_date</th>\n",
       "      <th>end_date</th>\n",
       "      <th>start_month</th>\n",
       "      <th>end_month</th>\n",
       "    </tr>\n",
       "  </thead>\n",
       "  <tbody>\n",
       "    <tr>\n",
       "      <th>0</th>\n",
       "      <td>docked_bike</td>\n",
       "      <td>2020-04-26 17:45:14</td>\n",
       "      <td>2020-04-26 18:12:03</td>\n",
       "      <td>Eckhart Park</td>\n",
       "      <td>Lincoln Ave &amp; Diversey Pkwy</td>\n",
       "      <td>member</td>\n",
       "      <td>2020-04-26</td>\n",
       "      <td>2020-04-26</td>\n",
       "      <td>April</td>\n",
       "      <td>April</td>\n",
       "    </tr>\n",
       "    <tr>\n",
       "      <th>1</th>\n",
       "      <td>docked_bike</td>\n",
       "      <td>2020-04-17 17:08:54</td>\n",
       "      <td>2020-04-17 17:17:03</td>\n",
       "      <td>Drake Ave &amp; Fullerton Ave</td>\n",
       "      <td>Kosciuszko Park</td>\n",
       "      <td>member</td>\n",
       "      <td>2020-04-17</td>\n",
       "      <td>2020-04-17</td>\n",
       "      <td>April</td>\n",
       "      <td>April</td>\n",
       "    </tr>\n",
       "    <tr>\n",
       "      <th>2</th>\n",
       "      <td>docked_bike</td>\n",
       "      <td>2020-04-01 17:54:13</td>\n",
       "      <td>2020-04-01 18:08:36</td>\n",
       "      <td>McClurg Ct &amp; Erie St</td>\n",
       "      <td>Indiana Ave &amp; Roosevelt Rd</td>\n",
       "      <td>member</td>\n",
       "      <td>2020-04-01</td>\n",
       "      <td>2020-04-01</td>\n",
       "      <td>April</td>\n",
       "      <td>April</td>\n",
       "    </tr>\n",
       "    <tr>\n",
       "      <th>3</th>\n",
       "      <td>docked_bike</td>\n",
       "      <td>2020-04-07 12:50:19</td>\n",
       "      <td>2020-04-07 13:02:31</td>\n",
       "      <td>California Ave &amp; Division St</td>\n",
       "      <td>Wood St &amp; Augusta Blvd</td>\n",
       "      <td>member</td>\n",
       "      <td>2020-04-07</td>\n",
       "      <td>2020-04-07</td>\n",
       "      <td>April</td>\n",
       "      <td>April</td>\n",
       "    </tr>\n",
       "    <tr>\n",
       "      <th>4</th>\n",
       "      <td>docked_bike</td>\n",
       "      <td>2020-04-18 10:22:59</td>\n",
       "      <td>2020-04-18 11:15:54</td>\n",
       "      <td>Rush St &amp; Hubbard St</td>\n",
       "      <td>Sheridan Rd &amp; Lawrence Ave</td>\n",
       "      <td>casual</td>\n",
       "      <td>2020-04-18</td>\n",
       "      <td>2020-04-18</td>\n",
       "      <td>April</td>\n",
       "      <td>April</td>\n",
       "    </tr>\n",
       "    <tr>\n",
       "      <th>...</th>\n",
       "      <td>...</td>\n",
       "      <td>...</td>\n",
       "      <td>...</td>\n",
       "      <td>...</td>\n",
       "      <td>...</td>\n",
       "      <td>...</td>\n",
       "      <td>...</td>\n",
       "      <td>...</td>\n",
       "      <td>...</td>\n",
       "      <td>...</td>\n",
       "    </tr>\n",
       "    <tr>\n",
       "      <th>14758108</th>\n",
       "      <td>classic_bike</td>\n",
       "      <td>2023-02-08 21:57:22</td>\n",
       "      <td>2023-02-08 22:08:06</td>\n",
       "      <td>Clark St &amp; Wrightwood Ave</td>\n",
       "      <td>Sheffield Ave &amp; Waveland Ave</td>\n",
       "      <td>member</td>\n",
       "      <td>2023-02-08</td>\n",
       "      <td>2023-02-08</td>\n",
       "      <td>February</td>\n",
       "      <td>February</td>\n",
       "    </tr>\n",
       "    <tr>\n",
       "      <th>14758109</th>\n",
       "      <td>electric_bike</td>\n",
       "      <td>2023-02-19 11:29:09</td>\n",
       "      <td>2023-02-19 11:39:11</td>\n",
       "      <td>Ogden Ave &amp; Roosevelt Rd</td>\n",
       "      <td>Delano Ct &amp; Roosevelt Rd</td>\n",
       "      <td>member</td>\n",
       "      <td>2023-02-19</td>\n",
       "      <td>2023-02-19</td>\n",
       "      <td>February</td>\n",
       "      <td>February</td>\n",
       "    </tr>\n",
       "    <tr>\n",
       "      <th>14758110</th>\n",
       "      <td>electric_bike</td>\n",
       "      <td>2023-02-07 09:01:33</td>\n",
       "      <td>2023-02-07 09:16:53</td>\n",
       "      <td>Clark St &amp; Wrightwood Ave</td>\n",
       "      <td>Canal St &amp; Madison St</td>\n",
       "      <td>casual</td>\n",
       "      <td>2023-02-07</td>\n",
       "      <td>2023-02-07</td>\n",
       "      <td>February</td>\n",
       "      <td>February</td>\n",
       "    </tr>\n",
       "    <tr>\n",
       "      <th>14758111</th>\n",
       "      <td>electric_bike</td>\n",
       "      <td>2023-02-22 08:33:22</td>\n",
       "      <td>2023-02-22 08:50:11</td>\n",
       "      <td>Clark St &amp; Wrightwood Ave</td>\n",
       "      <td>Canal St &amp; Madison St</td>\n",
       "      <td>casual</td>\n",
       "      <td>2023-02-22</td>\n",
       "      <td>2023-02-22</td>\n",
       "      <td>February</td>\n",
       "      <td>February</td>\n",
       "    </tr>\n",
       "    <tr>\n",
       "      <th>14758112</th>\n",
       "      <td>classic_bike</td>\n",
       "      <td>2023-02-01 21:52:17</td>\n",
       "      <td>2023-02-01 22:04:17</td>\n",
       "      <td>Clark St &amp; Winnemac Ave</td>\n",
       "      <td>Sheffield Ave &amp; Waveland Ave</td>\n",
       "      <td>member</td>\n",
       "      <td>2023-02-01</td>\n",
       "      <td>2023-02-01</td>\n",
       "      <td>February</td>\n",
       "      <td>February</td>\n",
       "    </tr>\n",
       "  </tbody>\n",
       "</table>\n",
       "<p>14758113 rows × 10 columns</p>\n",
       "</div>"
      ],
      "text/plain": [
       "          rideable_type          started_at            ended_at  \\\n",
       "0           docked_bike 2020-04-26 17:45:14 2020-04-26 18:12:03   \n",
       "1           docked_bike 2020-04-17 17:08:54 2020-04-17 17:17:03   \n",
       "2           docked_bike 2020-04-01 17:54:13 2020-04-01 18:08:36   \n",
       "3           docked_bike 2020-04-07 12:50:19 2020-04-07 13:02:31   \n",
       "4           docked_bike 2020-04-18 10:22:59 2020-04-18 11:15:54   \n",
       "...                 ...                 ...                 ...   \n",
       "14758108   classic_bike 2023-02-08 21:57:22 2023-02-08 22:08:06   \n",
       "14758109  electric_bike 2023-02-19 11:29:09 2023-02-19 11:39:11   \n",
       "14758110  electric_bike 2023-02-07 09:01:33 2023-02-07 09:16:53   \n",
       "14758111  electric_bike 2023-02-22 08:33:22 2023-02-22 08:50:11   \n",
       "14758112   classic_bike 2023-02-01 21:52:17 2023-02-01 22:04:17   \n",
       "\n",
       "                    start_station_name              end_station_name  \\\n",
       "0                         Eckhart Park   Lincoln Ave & Diversey Pkwy   \n",
       "1            Drake Ave & Fullerton Ave               Kosciuszko Park   \n",
       "2                 McClurg Ct & Erie St    Indiana Ave & Roosevelt Rd   \n",
       "3         California Ave & Division St        Wood St & Augusta Blvd   \n",
       "4                 Rush St & Hubbard St    Sheridan Rd & Lawrence Ave   \n",
       "...                                ...                           ...   \n",
       "14758108     Clark St & Wrightwood Ave  Sheffield Ave & Waveland Ave   \n",
       "14758109      Ogden Ave & Roosevelt Rd      Delano Ct & Roosevelt Rd   \n",
       "14758110     Clark St & Wrightwood Ave         Canal St & Madison St   \n",
       "14758111     Clark St & Wrightwood Ave         Canal St & Madison St   \n",
       "14758112       Clark St & Winnemac Ave  Sheffield Ave & Waveland Ave   \n",
       "\n",
       "         member_casual start_date   end_date start_month end_month  \n",
       "0               member 2020-04-26 2020-04-26       April     April  \n",
       "1               member 2020-04-17 2020-04-17       April     April  \n",
       "2               member 2020-04-01 2020-04-01       April     April  \n",
       "3               member 2020-04-07 2020-04-07       April     April  \n",
       "4               casual 2020-04-18 2020-04-18       April     April  \n",
       "...                ...        ...        ...         ...       ...  \n",
       "14758108        member 2023-02-08 2023-02-08    February  February  \n",
       "14758109        member 2023-02-19 2023-02-19    February  February  \n",
       "14758110        casual 2023-02-07 2023-02-07    February  February  \n",
       "14758111        casual 2023-02-22 2023-02-22    February  February  \n",
       "14758112        member 2023-02-01 2023-02-01    February  February  \n",
       "\n",
       "[14758113 rows x 10 columns]"
      ]
     },
     "execution_count": 62,
     "metadata": {},
     "output_type": "execute_result"
    }
   ],
   "source": [
    "df.head()"
   ]
  },
  {
   "cell_type": "code",
   "execution_count": 63,
   "metadata": {},
   "outputs": [
    {
     "name": "stdout",
     "output_type": "stream",
     "text": [
      "<class 'pandas.core.frame.DataFrame'>\n",
      "RangeIndex: 14758113 entries, 0 to 14758112\n",
      "Data columns (total 10 columns):\n",
      " #   Column              Dtype         \n",
      "---  ------              -----         \n",
      " 0   rideable_type       category      \n",
      " 1   started_at          datetime64[ns]\n",
      " 2   ended_at            datetime64[ns]\n",
      " 3   start_station_name  object        \n",
      " 4   end_station_name    object        \n",
      " 5   member_casual       category      \n",
      " 6   start_date          datetime64[ns]\n",
      " 7   end_date            datetime64[ns]\n",
      " 8   start_month         object        \n",
      " 9   end_month           object        \n",
      "dtypes: category(2), datetime64[ns](4), object(4)\n",
      "memory usage: 4.3 GB\n"
     ]
    }
   ],
   "source": [
    "df.info(memory_usage=\"deep\")"
   ]
  },
  {
   "cell_type": "code",
   "execution_count": 64,
   "metadata": {},
   "outputs": [],
   "source": [
    "# Calculate the length of each ride by time\n",
    "df[\"ride_length\"] = df[\"ended_at\"] - df[\"started_at\"]"
   ]
  },
  {
   "cell_type": "code",
   "execution_count": 65,
   "metadata": {},
   "outputs": [
    {
     "data": {
      "text/plain": [
       "count                     14758113\n",
       "mean     0 days 00:21:51.024610937\n",
       "std      0 days 03:39:47.923015718\n",
       "min             -21 days +19:50:02\n",
       "25%                0 days 00:06:29\n",
       "50%                0 days 00:11:39\n",
       "75%                0 days 00:21:24\n",
       "max               40 days 18:40:02\n",
       "Name: ride_length, dtype: object"
      ]
     },
     "execution_count": 65,
     "metadata": {},
     "output_type": "execute_result"
    }
   ],
   "source": [
    "df[\"ride_length\"].describe()"
   ]
  },
  {
   "cell_type": "code",
   "execution_count": 121,
   "metadata": {},
   "outputs": [
    {
     "data": {
      "text/html": [
       "<div>\n",
       "<style scoped>\n",
       "    .dataframe tbody tr th:only-of-type {\n",
       "        vertical-align: middle;\n",
       "    }\n",
       "\n",
       "    .dataframe tbody tr th {\n",
       "        vertical-align: top;\n",
       "    }\n",
       "\n",
       "    .dataframe thead th {\n",
       "        text-align: right;\n",
       "    }\n",
       "</style>\n",
       "<table border=\"1\" class=\"dataframe\">\n",
       "  <thead>\n",
       "    <tr style=\"text-align: right;\">\n",
       "      <th></th>\n",
       "      <th>rideable_type</th>\n",
       "      <th>started_at</th>\n",
       "      <th>ended_at</th>\n",
       "      <th>start_station_name</th>\n",
       "      <th>end_station_name</th>\n",
       "      <th>member_casual</th>\n",
       "      <th>start_date</th>\n",
       "      <th>end_date</th>\n",
       "      <th>start_month</th>\n",
       "      <th>end_month</th>\n",
       "      <th>ride_length</th>\n",
       "    </tr>\n",
       "  </thead>\n",
       "  <tbody>\n",
       "    <tr>\n",
       "      <th>3009987</th>\n",
       "      <td>electric_bike</td>\n",
       "      <td>2020-12-15 11:35:39</td>\n",
       "      <td>2020-11-25 07:40:56</td>\n",
       "      <td>Sheffield Ave &amp; Willow St</td>\n",
       "      <td>Sheffield Ave &amp; Willow St</td>\n",
       "      <td>member</td>\n",
       "      <td>2020-12-15</td>\n",
       "      <td>2020-11-25</td>\n",
       "      <td>December</td>\n",
       "      <td>November</td>\n",
       "      <td>-21 days +20:05:17</td>\n",
       "    </tr>\n",
       "  </tbody>\n",
       "</table>\n",
       "</div>"
      ],
      "text/plain": [
       "         rideable_type          started_at            ended_at  \\\n",
       "3009987  electric_bike 2020-12-15 11:35:39 2020-11-25 07:40:56   \n",
       "\n",
       "                start_station_name           end_station_name member_casual  \\\n",
       "3009987  Sheffield Ave & Willow St  Sheffield Ave & Willow St        member   \n",
       "\n",
       "        start_date   end_date start_month end_month        ride_length  \n",
       "3009987 2020-12-15 2020-11-25    December  November -21 days +20:05:17  "
      ]
     },
     "execution_count": 121,
     "metadata": {},
     "output_type": "execute_result"
    }
   ],
   "source": [
    "#?????\n",
    "df[df[\"ride_length\"] <= \"-21 days +20:05:17\"]"
   ]
  },
  {
   "cell_type": "code",
   "execution_count": 111,
   "metadata": {},
   "outputs": [],
   "source": [
    "df = df.drop(df.index[3044291])"
   ]
  },
  {
   "cell_type": "code",
   "execution_count": 125,
   "metadata": {},
   "outputs": [],
   "source": [
    "df =df.drop(df.index[3009987])"
   ]
  },
  {
   "cell_type": "code",
   "execution_count": 126,
   "metadata": {},
   "outputs": [
    {
     "data": {
      "text/plain": [
       "count                     14758111\n",
       "mean     0 days 00:21:51.260935427\n",
       "std      0 days 03:39:32.289933967\n",
       "min             -21 days +20:50:30\n",
       "25%                0 days 00:06:29\n",
       "50%                0 days 00:11:39\n",
       "75%                0 days 00:21:24\n",
       "max               40 days 18:40:02\n",
       "Name: ride_length, dtype: object"
      ]
     },
     "execution_count": 126,
     "metadata": {},
     "output_type": "execute_result"
    }
   ],
   "source": [
    "df[\"ride_length\"].describe()"
   ]
  },
  {
   "cell_type": "markdown",
   "metadata": {},
   "source": []
  },
  {
   "cell_type": "code",
   "execution_count": 75,
   "metadata": {},
   "outputs": [],
   "source": [
    "month_series = df[\"start_month\"].value_counts()"
   ]
  },
  {
   "cell_type": "code",
   "execution_count": 76,
   "metadata": {},
   "outputs": [
    {
     "data": {
      "text/plain": [
       "<AxesSubplot:>"
      ]
     },
     "execution_count": 76,
     "metadata": {},
     "output_type": "execute_result"
    },
    {
     "data": {
      "image/png": "[encoded data removed]",
      "text/plain": [
       "<Figure size 432x288 with 1 Axes>"
      ]
     },
     "metadata": {
      "needs_background": "light"
     },
     "output_type": "display_data"
    }
   ],
   "source": [
    "# Displays the number of rides per month\n",
    "month_series.iloc[[10,11,9,7,5,3,1,0,2,4,6,8]].plot(kind=\"bar\")"
   ]
  },
  {
   "cell_type": "code",
   "execution_count": 95,
   "metadata": {},
   "outputs": [
    {
     "data": {
      "text/plain": [
       "<AxesSubplot:>"
      ]
     },
     "execution_count": 95,
     "metadata": {},
     "output_type": "execute_result"
    },
    {
     "data": {
      "image/png": "[encoded data removed]",
      "text/plain": [
       "<Figure size 432x288 with 1 Axes>"
      ]
     },
     "metadata": {
      "needs_background": "light"
     },
     "output_type": "display_data"
    }
   ],
   "source": [
    "# Displays the number of rides per day\n",
    "df[\"start_date\"].dt.day_name().value_counts().iloc[[1,6,5,4,3,2,0]].plot(kind=\"bar\")"
   ]
  },
  {
   "cell_type": "code",
   "execution_count": 78,
   "metadata": {},
   "outputs": [],
   "source": [
    "members = df[df[\"member_casual\"]== \"member\"]"
   ]
  },
  {
   "cell_type": "code",
   "execution_count": 79,
   "metadata": {},
   "outputs": [],
   "source": [
    "casual = df[df[\"member_casual\"]== \"casual\"]"
   ]
  },
  {
   "cell_type": "code",
   "execution_count": 82,
   "metadata": {},
   "outputs": [
    {
     "name": "stdout",
     "output_type": "stream",
     "text": [
      "number of casual riders: 6252131\n",
      "number of member riders: 8505982\n"
     ]
    }
   ],
   "source": [
    "print(\"number of casual riders:\",len(casual))\n",
    "print(\"number of member riders:\",len(members))"
   ]
  },
  {
   "cell_type": "code",
   "execution_count": 88,
   "metadata": {},
   "outputs": [
    {
     "data": {
      "text/plain": [
       "<AxesSubplot:>"
      ]
     },
     "execution_count": 88,
     "metadata": {},
     "output_type": "execute_result"
    },
    {
     "data": {
      "image/png": "[encoded data removed]",
      "text/plain": [
       "<Figure size 432x288 with 1 Axes>"
      ]
     },
     "metadata": {
      "needs_background": "light"
     },
     "output_type": "display_data"
    }
   ],
   "source": [
    "# Number of rides per day for members\n",
    "members[\"start_date\"].dt.day_name().value_counts().iloc[[6,5,2,0,1,3,4]].plot(kind=\"bar\")"
   ]
  },
  {
   "cell_type": "code",
   "execution_count": 99,
   "metadata": {},
   "outputs": [
    {
     "data": {
      "text/plain": [
       "<AxesSubplot:>"
      ]
     },
     "execution_count": 99,
     "metadata": {},
     "output_type": "execute_result"
    },
    {
     "data": {
      "image/png": "[encoded data removed]",
      "text/plain": [
       "<Figure size 432x288 with 1 Axes>"
      ]
     },
     "metadata": {
      "needs_background": "light"
     },
     "output_type": "display_data"
    }
   ],
   "source": [
    "# Number of rides per day for casual riders\n",
    "casual[\"start_date\"].dt.day_name().value_counts().iloc[[1,4,6,5,3,2,0]].plot(kind=\"bar\")"
   ]
  },
  {
   "cell_type": "code",
   "execution_count": 100,
   "metadata": {},
   "outputs": [
    {
     "data": {
      "text/plain": [
       "count                      8505982\n",
       "mean     0 days 00:13:20.557256881\n",
       "std      0 days 01:57:08.646789486\n",
       "min             -21 days +19:50:02\n",
       "25%                0 days 00:05:29\n",
       "50%                0 days 00:09:34\n",
       "75%                0 days 00:16:43\n",
       "max               40 days 18:40:02\n",
       "Name: ride_length, dtype: object"
      ]
     },
     "execution_count": 100,
     "metadata": {},
     "output_type": "execute_result"
    }
   ],
   "source": [
    "members[\"ride_length\"].describe()"
   ]
  },
  {
   "cell_type": "code",
   "execution_count": 101,
   "metadata": {},
   "outputs": [
    {
     "data": {
      "text/plain": [
       "count                      6252131\n",
       "mean     0 days 00:33:25.511998548\n",
       "std      0 days 05:08:26.549559029\n",
       "min             -21 days +21:26:19\n",
       "25%                0 days 00:08:38\n",
       "50%                0 days 00:15:35\n",
       "75%                0 days 00:29:12\n",
       "max               38 days 20:24:09\n",
       "Name: ride_length, dtype: object"
      ]
     },
     "execution_count": 101,
     "metadata": {},
     "output_type": "execute_result"
    }
   ],
   "source": [
    "casual[\"ride_length\"].describe()"
   ]
  },
  {
   "cell_type": "code",
   "execution_count": null,
   "metadata": {},
   "outputs": [],
   "source": []
  }
 ],
 "metadata": {
  "kernelspec": {
   "display_name": "base",
   "language": "python",
   "name": "python3"
  },
  "language_info": {
   "codemirror_mode": {
    "name": "ipython",
    "version": 3
   },
   "file_extension": ".py",
   "mimetype": "text/x-python",
   "name": "python",
   "nbconvert_exporter": "python",
   "pygments_lexer": "ipython3",
   "version": "3.9.7"
  },
  "orig_nbformat": 4
 },
 "nbformat": 4,
 "nbformat_minor": 2
}
