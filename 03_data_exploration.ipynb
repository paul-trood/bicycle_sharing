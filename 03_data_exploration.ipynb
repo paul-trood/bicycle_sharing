{
 "cells": [
  {
   "cell_type": "code",
   "execution_count": 1,
   "metadata": {},
   "outputs": [],
   "source": [
    "import pandas as pd\n",
    "import numpy as np\n",
    "from IPython.display import display\n",
    "import seaborn as sns\n",
    "import matplotlib.pyplot as plt\n",
    "from matplotlib.ticker import FormatStrFormatter, StrMethodFormatter\n",
    "import missingno as msno\n",
    "pd.set_option(\"display.max_columns\", None)\n",
    "pd.set_option(\"display.float_format\", lambda x: \"%.2f\" % x)"
   ]
  },
  {
   "cell_type": "code",
   "execution_count": 2,
   "metadata": {},
   "outputs": [],
   "source": [
    "# Columns needed to be parsed as datetime\n",
    "dates = [\n",
    "            \n",
    "            \"started_at\",\n",
    "            \"ended_at\",\n",
    "            \"end_date\"\n",
    "]\n",
    "\n",
    "# Drop columns\n",
    "cols_to_drop = [\"Year\",\"start_time\",\"end_time\",\"start_date\"]\n",
    "\n",
    "# Read csv\n",
    "df = pd.read_csv(\"bicycle_sharing_cleaned.csv\",parse_dates=dates).drop(cols_to_drop,axis=1)\n"
   ]
  },
  {
   "cell_type": "code",
   "execution_count": 3,
   "metadata": {},
   "outputs": [
    {
     "data": {
      "text/html": [
       "<div>\n",
       "<style scoped>\n",
       "    .dataframe tbody tr th:only-of-type {\n",
       "        vertical-align: middle;\n",
       "    }\n",
       "\n",
       "    .dataframe tbody tr th {\n",
       "        vertical-align: top;\n",
       "    }\n",
       "\n",
       "    .dataframe thead th {\n",
       "        text-align: right;\n",
       "    }\n",
       "</style>\n",
       "<table border=\"1\" class=\"dataframe\">\n",
       "  <thead>\n",
       "    <tr style=\"text-align: right;\">\n",
       "      <th></th>\n",
       "      <th>rideable_type</th>\n",
       "      <th>started_at</th>\n",
       "      <th>ended_at</th>\n",
       "      <th>start_station_name</th>\n",
       "      <th>end_station_name</th>\n",
       "      <th>member_casual</th>\n",
       "      <th>end_date</th>\n",
       "      <th>start_month</th>\n",
       "      <th>end_month</th>\n",
       "    </tr>\n",
       "  </thead>\n",
       "  <tbody>\n",
       "    <tr>\n",
       "      <th>0</th>\n",
       "      <td>docked_bike</td>\n",
       "      <td>2020-04-26 17:45:14</td>\n",
       "      <td>2020-04-26 18:12:03</td>\n",
       "      <td>Eckhart Park</td>\n",
       "      <td>Lincoln Ave &amp; Diversey Pkwy</td>\n",
       "      <td>member</td>\n",
       "      <td>2020-04-26</td>\n",
       "      <td>April</td>\n",
       "      <td>April</td>\n",
       "    </tr>\n",
       "    <tr>\n",
       "      <th>1</th>\n",
       "      <td>docked_bike</td>\n",
       "      <td>2020-04-17 17:08:54</td>\n",
       "      <td>2020-04-17 17:17:03</td>\n",
       "      <td>Drake Ave &amp; Fullerton Ave</td>\n",
       "      <td>Kosciuszko Park</td>\n",
       "      <td>member</td>\n",
       "      <td>2020-04-17</td>\n",
       "      <td>April</td>\n",
       "      <td>April</td>\n",
       "    </tr>\n",
       "    <tr>\n",
       "      <th>2</th>\n",
       "      <td>docked_bike</td>\n",
       "      <td>2020-04-01 17:54:13</td>\n",
       "      <td>2020-04-01 18:08:36</td>\n",
       "      <td>McClurg Ct &amp; Erie St</td>\n",
       "      <td>Indiana Ave &amp; Roosevelt Rd</td>\n",
       "      <td>member</td>\n",
       "      <td>2020-04-01</td>\n",
       "      <td>April</td>\n",
       "      <td>April</td>\n",
       "    </tr>\n",
       "    <tr>\n",
       "      <th>3</th>\n",
       "      <td>docked_bike</td>\n",
       "      <td>2020-04-07 12:50:19</td>\n",
       "      <td>2020-04-07 13:02:31</td>\n",
       "      <td>California Ave &amp; Division St</td>\n",
       "      <td>Wood St &amp; Augusta Blvd</td>\n",
       "      <td>member</td>\n",
       "      <td>2020-04-07</td>\n",
       "      <td>April</td>\n",
       "      <td>April</td>\n",
       "    </tr>\n",
       "    <tr>\n",
       "      <th>4</th>\n",
       "      <td>docked_bike</td>\n",
       "      <td>2020-04-18 10:22:59</td>\n",
       "      <td>2020-04-18 11:15:54</td>\n",
       "      <td>Rush St &amp; Hubbard St</td>\n",
       "      <td>Sheridan Rd &amp; Lawrence Ave</td>\n",
       "      <td>casual</td>\n",
       "      <td>2020-04-18</td>\n",
       "      <td>April</td>\n",
       "      <td>April</td>\n",
       "    </tr>\n",
       "  </tbody>\n",
       "</table>\n",
       "</div>"
      ],
      "text/plain": [
       "  rideable_type          started_at            ended_at  \\\n",
       "0   docked_bike 2020-04-26 17:45:14 2020-04-26 18:12:03   \n",
       "1   docked_bike 2020-04-17 17:08:54 2020-04-17 17:17:03   \n",
       "2   docked_bike 2020-04-01 17:54:13 2020-04-01 18:08:36   \n",
       "3   docked_bike 2020-04-07 12:50:19 2020-04-07 13:02:31   \n",
       "4   docked_bike 2020-04-18 10:22:59 2020-04-18 11:15:54   \n",
       "\n",
       "             start_station_name             end_station_name member_casual  \\\n",
       "0                  Eckhart Park  Lincoln Ave & Diversey Pkwy        member   \n",
       "1     Drake Ave & Fullerton Ave              Kosciuszko Park        member   \n",
       "2          McClurg Ct & Erie St   Indiana Ave & Roosevelt Rd        member   \n",
       "3  California Ave & Division St       Wood St & Augusta Blvd        member   \n",
       "4          Rush St & Hubbard St   Sheridan Rd & Lawrence Ave        casual   \n",
       "\n",
       "    end_date start_month end_month  \n",
       "0 2020-04-26       April     April  \n",
       "1 2020-04-17       April     April  \n",
       "2 2020-04-01       April     April  \n",
       "3 2020-04-07       April     April  \n",
       "4 2020-04-18       April     April  "
      ]
     },
     "execution_count": 3,
     "metadata": {},
     "output_type": "execute_result"
    }
   ],
   "source": [
    "df.head()"
   ]
  },
  {
   "cell_type": "code",
   "execution_count": 4,
   "metadata": {},
   "outputs": [],
   "source": [
    "# Convert columns to category for lower memory usage\n",
    "df[[\"rideable_type\",\"member_casual\"]] = df[[\"rideable_type\",\"member_casual\"]].astype(\"category\")"
   ]
  },
  {
   "cell_type": "code",
   "execution_count": 5,
   "metadata": {},
   "outputs": [
    {
     "data": {
      "text/html": [
       "<div>\n",
       "<style scoped>\n",
       "    .dataframe tbody tr th:only-of-type {\n",
       "        vertical-align: middle;\n",
       "    }\n",
       "\n",
       "    .dataframe tbody tr th {\n",
       "        vertical-align: top;\n",
       "    }\n",
       "\n",
       "    .dataframe thead th {\n",
       "        text-align: right;\n",
       "    }\n",
       "</style>\n",
       "<table border=\"1\" class=\"dataframe\">\n",
       "  <thead>\n",
       "    <tr style=\"text-align: right;\">\n",
       "      <th></th>\n",
       "      <th>rideable_type</th>\n",
       "      <th>started_at</th>\n",
       "      <th>ended_at</th>\n",
       "      <th>start_station_name</th>\n",
       "      <th>end_station_name</th>\n",
       "      <th>member_casual</th>\n",
       "      <th>end_date</th>\n",
       "      <th>start_month</th>\n",
       "      <th>end_month</th>\n",
       "    </tr>\n",
       "  </thead>\n",
       "  <tbody>\n",
       "    <tr>\n",
       "      <th>0</th>\n",
       "      <td>docked_bike</td>\n",
       "      <td>2020-04-26 17:45:14</td>\n",
       "      <td>2020-04-26 18:12:03</td>\n",
       "      <td>Eckhart Park</td>\n",
       "      <td>Lincoln Ave &amp; Diversey Pkwy</td>\n",
       "      <td>member</td>\n",
       "      <td>2020-04-26</td>\n",
       "      <td>April</td>\n",
       "      <td>April</td>\n",
       "    </tr>\n",
       "    <tr>\n",
       "      <th>1</th>\n",
       "      <td>docked_bike</td>\n",
       "      <td>2020-04-17 17:08:54</td>\n",
       "      <td>2020-04-17 17:17:03</td>\n",
       "      <td>Drake Ave &amp; Fullerton Ave</td>\n",
       "      <td>Kosciuszko Park</td>\n",
       "      <td>member</td>\n",
       "      <td>2020-04-17</td>\n",
       "      <td>April</td>\n",
       "      <td>April</td>\n",
       "    </tr>\n",
       "    <tr>\n",
       "      <th>2</th>\n",
       "      <td>docked_bike</td>\n",
       "      <td>2020-04-01 17:54:13</td>\n",
       "      <td>2020-04-01 18:08:36</td>\n",
       "      <td>McClurg Ct &amp; Erie St</td>\n",
       "      <td>Indiana Ave &amp; Roosevelt Rd</td>\n",
       "      <td>member</td>\n",
       "      <td>2020-04-01</td>\n",
       "      <td>April</td>\n",
       "      <td>April</td>\n",
       "    </tr>\n",
       "    <tr>\n",
       "      <th>3</th>\n",
       "      <td>docked_bike</td>\n",
       "      <td>2020-04-07 12:50:19</td>\n",
       "      <td>2020-04-07 13:02:31</td>\n",
       "      <td>California Ave &amp; Division St</td>\n",
       "      <td>Wood St &amp; Augusta Blvd</td>\n",
       "      <td>member</td>\n",
       "      <td>2020-04-07</td>\n",
       "      <td>April</td>\n",
       "      <td>April</td>\n",
       "    </tr>\n",
       "    <tr>\n",
       "      <th>4</th>\n",
       "      <td>docked_bike</td>\n",
       "      <td>2020-04-18 10:22:59</td>\n",
       "      <td>2020-04-18 11:15:54</td>\n",
       "      <td>Rush St &amp; Hubbard St</td>\n",
       "      <td>Sheridan Rd &amp; Lawrence Ave</td>\n",
       "      <td>casual</td>\n",
       "      <td>2020-04-18</td>\n",
       "      <td>April</td>\n",
       "      <td>April</td>\n",
       "    </tr>\n",
       "  </tbody>\n",
       "</table>\n",
       "</div>"
      ],
      "text/plain": [
       "  rideable_type          started_at            ended_at  \\\n",
       "0   docked_bike 2020-04-26 17:45:14 2020-04-26 18:12:03   \n",
       "1   docked_bike 2020-04-17 17:08:54 2020-04-17 17:17:03   \n",
       "2   docked_bike 2020-04-01 17:54:13 2020-04-01 18:08:36   \n",
       "3   docked_bike 2020-04-07 12:50:19 2020-04-07 13:02:31   \n",
       "4   docked_bike 2020-04-18 10:22:59 2020-04-18 11:15:54   \n",
       "\n",
       "             start_station_name             end_station_name member_casual  \\\n",
       "0                  Eckhart Park  Lincoln Ave & Diversey Pkwy        member   \n",
       "1     Drake Ave & Fullerton Ave              Kosciuszko Park        member   \n",
       "2          McClurg Ct & Erie St   Indiana Ave & Roosevelt Rd        member   \n",
       "3  California Ave & Division St       Wood St & Augusta Blvd        member   \n",
       "4          Rush St & Hubbard St   Sheridan Rd & Lawrence Ave        casual   \n",
       "\n",
       "    end_date start_month end_month  \n",
       "0 2020-04-26       April     April  \n",
       "1 2020-04-17       April     April  \n",
       "2 2020-04-01       April     April  \n",
       "3 2020-04-07       April     April  \n",
       "4 2020-04-18       April     April  "
      ]
     },
     "execution_count": 5,
     "metadata": {},
     "output_type": "execute_result"
    }
   ],
   "source": [
    "df.head()"
   ]
  },
  {
   "cell_type": "code",
   "execution_count": 6,
   "metadata": {},
   "outputs": [
    {
     "name": "stdout",
     "output_type": "stream",
     "text": [
      "<class 'pandas.core.frame.DataFrame'>\n",
      "RangeIndex: 14758113 entries, 0 to 14758112\n",
      "Data columns (total 9 columns):\n",
      " #   Column              Dtype         \n",
      "---  ------              -----         \n",
      " 0   rideable_type       category      \n",
      " 1   started_at          datetime64[ns]\n",
      " 2   ended_at            datetime64[ns]\n",
      " 3   start_station_name  object        \n",
      " 4   end_station_name    object        \n",
      " 5   member_casual       category      \n",
      " 6   end_date            datetime64[ns]\n",
      " 7   start_month         object        \n",
      " 8   end_month           object        \n",
      "dtypes: category(2), datetime64[ns](3), object(4)\n",
      "memory usage: 4.1 GB\n"
     ]
    }
   ],
   "source": [
    "df.info(memory_usage=\"deep\")"
   ]
  },
  {
   "cell_type": "code",
   "execution_count": 7,
   "metadata": {},
   "outputs": [],
   "source": [
    "# Calculate the length of each ride by time\n",
    "df[\"ride_length\"] = df[\"ended_at\"] - df[\"started_at\"]"
   ]
  },
  {
   "attachments": {},
   "cell_type": "markdown",
   "metadata": {},
   "source": [
    "### Time travel??\n",
    "`.describe()` function will show the numerical and date time information to include: average, minimum and maximum values and other important information about the data.\n",
    "\n",
    "It looks like we have time travelers in our dataset. Individuals that started their rides in the future, and ended their rides in the past. This dataset has some interesting datapoints in the \"ride_length\" column with negative days.\n",
    "\n",
    "I don't really know why this is the case, and I thought I had corrected this earlier in the data cleaning phase, but it's still apparent. I'm confident that removing any rows with less than 0 minute ride times should fix this. I want the data to be as accurate as possible and these extreme datapoints are interfering with that goal."
   ]
  },
  {
   "cell_type": "code",
   "execution_count": 8,
   "metadata": {},
   "outputs": [
    {
     "data": {
      "text/plain": [
       "count                     14758113\n",
       "mean     0 days 00:21:51.024610937\n",
       "std      0 days 03:39:47.923015718\n",
       "min             -21 days +19:50:02\n",
       "25%                0 days 00:06:29\n",
       "50%                0 days 00:11:39\n",
       "75%                0 days 00:21:24\n",
       "max               40 days 18:40:02\n",
       "Name: ride_length, dtype: object"
      ]
     },
     "execution_count": 8,
     "metadata": {},
     "output_type": "execute_result"
    }
   ],
   "source": [
    "df[\"ride_length\"].describe()"
   ]
  },
  {
   "cell_type": "code",
   "execution_count": 9,
   "metadata": {},
   "outputs": [
    {
     "data": {
      "text/html": [
       "<div>\n",
       "<style scoped>\n",
       "    .dataframe tbody tr th:only-of-type {\n",
       "        vertical-align: middle;\n",
       "    }\n",
       "\n",
       "    .dataframe tbody tr th {\n",
       "        vertical-align: top;\n",
       "    }\n",
       "\n",
       "    .dataframe thead th {\n",
       "        text-align: right;\n",
       "    }\n",
       "</style>\n",
       "<table border=\"1\" class=\"dataframe\">\n",
       "  <thead>\n",
       "    <tr style=\"text-align: right;\">\n",
       "      <th></th>\n",
       "      <th>rideable_type</th>\n",
       "      <th>started_at</th>\n",
       "      <th>ended_at</th>\n",
       "      <th>start_station_name</th>\n",
       "      <th>end_station_name</th>\n",
       "      <th>member_casual</th>\n",
       "      <th>end_date</th>\n",
       "      <th>start_month</th>\n",
       "      <th>end_month</th>\n",
       "      <th>ride_length</th>\n",
       "    </tr>\n",
       "  </thead>\n",
       "  <tbody>\n",
       "    <tr>\n",
       "      <th>3009987</th>\n",
       "      <td>electric_bike</td>\n",
       "      <td>2020-12-15 11:35:39</td>\n",
       "      <td>2020-11-25 07:40:56</td>\n",
       "      <td>Sheffield Ave &amp; Willow St</td>\n",
       "      <td>Sheffield Ave &amp; Willow St</td>\n",
       "      <td>member</td>\n",
       "      <td>2020-11-25</td>\n",
       "      <td>December</td>\n",
       "      <td>November</td>\n",
       "      <td>-21 days +20:05:17</td>\n",
       "    </tr>\n",
       "    <tr>\n",
       "      <th>3044291</th>\n",
       "      <td>electric_bike</td>\n",
       "      <td>2020-12-15 12:10:14</td>\n",
       "      <td>2020-11-25 08:00:16</td>\n",
       "      <td>Wells St &amp; Concord Ln</td>\n",
       "      <td>Clark St &amp; Schiller St</td>\n",
       "      <td>member</td>\n",
       "      <td>2020-11-25</td>\n",
       "      <td>December</td>\n",
       "      <td>November</td>\n",
       "      <td>-21 days +19:50:02</td>\n",
       "    </tr>\n",
       "  </tbody>\n",
       "</table>\n",
       "</div>"
      ],
      "text/plain": [
       "         rideable_type          started_at            ended_at  \\\n",
       "3009987  electric_bike 2020-12-15 11:35:39 2020-11-25 07:40:56   \n",
       "3044291  electric_bike 2020-12-15 12:10:14 2020-11-25 08:00:16   \n",
       "\n",
       "                start_station_name           end_station_name member_casual  \\\n",
       "3009987  Sheffield Ave & Willow St  Sheffield Ave & Willow St        member   \n",
       "3044291      Wells St & Concord Ln     Clark St & Schiller St        member   \n",
       "\n",
       "          end_date start_month end_month        ride_length  \n",
       "3009987 2020-11-25    December  November -21 days +20:05:17  \n",
       "3044291 2020-11-25    December  November -21 days +19:50:02  "
      ]
     },
     "execution_count": 9,
     "metadata": {},
     "output_type": "execute_result"
    }
   ],
   "source": [
    "#?????\n",
    "df[df[\"ride_length\"] <= \"-21 days +20:05:17\"]"
   ]
  },
  {
   "cell_type": "code",
   "execution_count": 10,
   "metadata": {},
   "outputs": [],
   "source": [
    "# This will remove any incorrect data by re-assigning the dataframe that exludes anything less than 0 minutes\n",
    "df = df[df[\"ride_length\"] >= \"00:00:00\"]"
   ]
  },
  {
   "cell_type": "code",
   "execution_count": 11,
   "metadata": {},
   "outputs": [
    {
     "data": {
      "text/plain": [
       "count                     14747526\n",
       "mean     0 days 00:22:11.721441955\n",
       "std      0 days 03:17:23.954350290\n",
       "min                0 days 00:00:00\n",
       "25%                0 days 00:06:29\n",
       "50%                0 days 00:11:40\n",
       "75%                0 days 00:21:24\n",
       "max               40 days 18:40:02\n",
       "Name: ride_length, dtype: object"
      ]
     },
     "execution_count": 11,
     "metadata": {},
     "output_type": "execute_result"
    }
   ],
   "source": [
    "df[\"ride_length\"].describe()"
   ]
  },
  {
   "attachments": {},
   "cell_type": "markdown",
   "metadata": {},
   "source": [
    "## Number of rides per month\n",
    "I'm interested to see the pattern that Cyclistic has when it comes to renting bikes throughout the year.\n",
    "\n",
    "- Bike sharing increases from May to October and peaks in the summer(July and August).\n",
    "- Bike sharing is lowest in the spring and winter"
   ]
  },
  {
   "cell_type": "code",
   "execution_count": 12,
   "metadata": {},
   "outputs": [],
   "source": [
    "# Count the number of rides per month\n",
    "month_series = df[\"start_month\"].value_counts()"
   ]
  },
  {
   "cell_type": "code",
   "execution_count": 13,
   "metadata": {},
   "outputs": [
    {
     "data": {
      "text/plain": [
       "<AxesSubplot:>"
      ]
     },
     "execution_count": 13,
     "metadata": {},
     "output_type": "execute_result"
    },
    {
     "data": {
      "image/png": "[encoded data removed]",
      "text/plain": [
       "<Figure size 432x288 with 1 Axes>"
      ]
     },
     "metadata": {
      "needs_background": "light"
     },
     "output_type": "display_data"
    }
   ],
   "source": [
    "# Displays the number of rides per month\n",
    "month_series.iloc[[10,11,9,7,5,3,1,0,2,4,6,8]].plot(kind=\"bar\")"
   ]
  },
  {
   "cell_type": "code",
   "execution_count": 14,
   "metadata": {},
   "outputs": [],
   "source": [
    "members = df[df[\"member_casual\"]== \"member\"]"
   ]
  },
  {
   "cell_type": "code",
   "execution_count": 15,
   "metadata": {},
   "outputs": [],
   "source": [
    "casual = df[df[\"member_casual\"]== \"casual\"]"
   ]
  },
  {
   "cell_type": "code",
   "execution_count": 16,
   "metadata": {},
   "outputs": [
    {
     "data": {
      "text/plain": [
       "<AxesSubplot:>"
      ]
     },
     "execution_count": 16,
     "metadata": {},
     "output_type": "execute_result"
    },
    {
     "data": {
      "image/png": "[encoded data removed]",
      "text/plain": [
       "<Figure size 432x288 with 1 Axes>"
      ]
     },
     "metadata": {
      "needs_background": "light"
     },
     "output_type": "display_data"
    }
   ],
   "source": [
    "# Number of rides per day for members\n",
    "members[\"started_at\"].dt.day_name().value_counts().iloc[[6,5,2,0,1,3,4]].plot(kind=\"bar\")"
   ]
  },
  {
   "cell_type": "code",
   "execution_count": 17,
   "metadata": {},
   "outputs": [
    {
     "data": {
      "text/plain": [
       "<AxesSubplot:>"
      ]
     },
     "execution_count": 17,
     "metadata": {},
     "output_type": "execute_result"
    },
    {
     "data": {
      "image/png": "[encoded data removed]",
      "text/plain": [
       "<Figure size 432x288 with 1 Axes>"
      ]
     },
     "metadata": {
      "needs_background": "light"
     },
     "output_type": "display_data"
    }
   ],
   "source": [
    "casual[\"started_at\"].dt.day_name().value_counts().iloc[[1,4,6,5,3,2,0]].plot(kind=\"bar\")"
   ]
  },
  {
   "cell_type": "code",
   "execution_count": 18,
   "metadata": {},
   "outputs": [
    {
     "name": "stdout",
     "output_type": "stream",
     "text": [
      "number of casual riders: 6248788\n",
      "number of member riders: 8498738\n"
     ]
    }
   ],
   "source": [
    "print(\"number of casual riders:\",len(casual))\n",
    "print(\"number of member riders:\",len(members))"
   ]
  },
  {
   "cell_type": "code",
   "execution_count": 19,
   "metadata": {},
   "outputs": [
    {
     "data": {
      "text/plain": [
       "count                      8498738\n",
       "mean     0 days 00:13:44.591428868\n",
       "std      0 days 00:51:32.791233231\n",
       "min                0 days 00:00:00\n",
       "25%                0 days 00:05:30\n",
       "50%                0 days 00:09:34\n",
       "75%                0 days 00:16:44\n",
       "max               40 days 18:40:02\n",
       "Name: ride_length, dtype: object"
      ]
     },
     "execution_count": 19,
     "metadata": {},
     "output_type": "execute_result"
    }
   ],
   "source": [
    "members[\"ride_length\"].describe()"
   ]
  },
  {
   "cell_type": "code",
   "execution_count": 20,
   "metadata": {},
   "outputs": [
    {
     "data": {
      "text/plain": [
       "count                      6248788\n",
       "mean     0 days 00:33:41.449612148\n",
       "std      0 days 04:56:51.029134200\n",
       "min                0 days 00:00:00\n",
       "25%                0 days 00:08:39\n",
       "50%                0 days 00:15:35\n",
       "75%                0 days 00:29:13\n",
       "max               38 days 20:24:09\n",
       "Name: ride_length, dtype: object"
      ]
     },
     "execution_count": 20,
     "metadata": {},
     "output_type": "execute_result"
    }
   ],
   "source": [
    "casual[\"ride_length\"].describe()"
   ]
  },
  {
   "cell_type": "code",
   "execution_count": 21,
   "metadata": {},
   "outputs": [
    {
     "data": {
      "text/html": [
       "<div>\n",
       "<style scoped>\n",
       "    .dataframe tbody tr th:only-of-type {\n",
       "        vertical-align: middle;\n",
       "    }\n",
       "\n",
       "    .dataframe tbody tr th {\n",
       "        vertical-align: top;\n",
       "    }\n",
       "\n",
       "    .dataframe thead th {\n",
       "        text-align: right;\n",
       "    }\n",
       "</style>\n",
       "<table border=\"1\" class=\"dataframe\">\n",
       "  <thead>\n",
       "    <tr style=\"text-align: right;\">\n",
       "      <th></th>\n",
       "      <th>ride_length</th>\n",
       "    </tr>\n",
       "  </thead>\n",
       "  <tbody>\n",
       "    <tr>\n",
       "      <th>count</th>\n",
       "      <td>14747526</td>\n",
       "    </tr>\n",
       "    <tr>\n",
       "      <th>mean</th>\n",
       "      <td>0 days 00:22:11.721441955</td>\n",
       "    </tr>\n",
       "    <tr>\n",
       "      <th>std</th>\n",
       "      <td>0 days 03:17:23.954350290</td>\n",
       "    </tr>\n",
       "    <tr>\n",
       "      <th>min</th>\n",
       "      <td>0 days 00:00:00</td>\n",
       "    </tr>\n",
       "    <tr>\n",
       "      <th>25%</th>\n",
       "      <td>0 days 00:06:29</td>\n",
       "    </tr>\n",
       "    <tr>\n",
       "      <th>50%</th>\n",
       "      <td>0 days 00:11:40</td>\n",
       "    </tr>\n",
       "    <tr>\n",
       "      <th>75%</th>\n",
       "      <td>0 days 00:21:24</td>\n",
       "    </tr>\n",
       "    <tr>\n",
       "      <th>max</th>\n",
       "      <td>40 days 18:40:02</td>\n",
       "    </tr>\n",
       "  </tbody>\n",
       "</table>\n",
       "</div>"
      ],
      "text/plain": [
       "                     ride_length\n",
       "count                   14747526\n",
       "mean   0 days 00:22:11.721441955\n",
       "std    0 days 03:17:23.954350290\n",
       "min              0 days 00:00:00\n",
       "25%              0 days 00:06:29\n",
       "50%              0 days 00:11:40\n",
       "75%              0 days 00:21:24\n",
       "max             40 days 18:40:02"
      ]
     },
     "execution_count": 21,
     "metadata": {},
     "output_type": "execute_result"
    }
   ],
   "source": [
    "df.describe()"
   ]
  },
  {
   "cell_type": "code",
   "execution_count": null,
   "metadata": {},
   "outputs": [],
   "source": []
  }
 ],
 "metadata": {
  "kernelspec": {
   "display_name": "base",
   "language": "python",
   "name": "python3"
  },
  "language_info": {
   "codemirror_mode": {
    "name": "ipython",
    "version": 3
   },
   "file_extension": ".py",
   "mimetype": "text/x-python",
   "name": "python",
   "nbconvert_exporter": "python",
   "pygments_lexer": "ipython3",
   "version": "3.9.7"
  },
  "orig_nbformat": 4
 },
 "nbformat": 4,
 "nbformat_minor": 2
}
